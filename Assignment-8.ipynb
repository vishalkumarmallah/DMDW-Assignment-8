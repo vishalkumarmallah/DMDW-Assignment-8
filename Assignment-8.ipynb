{
 "cells": [
  {
   "cell_type": "code",
   "execution_count": 1,
   "id": "54ffab7c",
   "metadata": {},
   "outputs": [
    {
     "name": "stdout",
     "output_type": "stream",
     "text": [
      "The new data point belongs to the class: Builder\n"
     ]
    }
   ],
   "source": [
    "training_data = [\n",
    "    [1.70, 65, 20, 'Programmer'],\n",
    "    [1.90, 85, 33, 'Builder'],\n",
    "    [1.78, 76, 31, 'Builder'],\n",
    "    [1.73, 74, 24, 'Programmer'],\n",
    "    [1.81, 75, 35, 'Builder'],\n",
    "    [1.73, 70, 75, 'Scientist'],\n",
    "    [1.80, 71, 63, 'Scientist'],\n",
    "    [1.75, 69, 25, 'Programmer']\n",
    "]\n",
    "\n",
    "new_data = [1.69, 75, 37]\n",
    "\n",
    "k = 3\n",
    "\n",
    "distances = [(point, sum((a - b) ** 2 for a, b in zip(new_data, point[:3]))) for point in training_data]\n",
    "distances.sort(key=lambda x: x[1])\n",
    "\n",
    "k_nearest_neighbors = distances[:k]\n",
    "\n",
    "class_counts = {}\n",
    "for neighbor in k_nearest_neighbors:\n",
    "    data_point = neighbor[0]\n",
    "    class_label = data_point[3]\n",
    "    if class_label in class_counts:\n",
    "        class_counts[class_label] += 1\n",
    "    else:\n",
    "        class_counts[class_label] = 1\n",
    "\n",
    "predicted_class = max(class_counts, key=class_counts.get)\n",
    "\n",
    "print(f\"The new data point belongs to the class: {predicted_class}\")"
   ]
  },
  {
   "cell_type": "code",
   "execution_count": null,
   "id": "713ccbb1",
   "metadata": {},
   "outputs": [],
   "source": []
  }
 ],
 "metadata": {
  "kernelspec": {
   "display_name": "Python 3 (ipykernel)",
   "language": "python",
   "name": "python3"
  },
  "language_info": {
   "codemirror_mode": {
    "name": "ipython",
    "version": 3
   },
   "file_extension": ".py",
   "mimetype": "text/x-python",
   "name": "python",
   "nbconvert_exporter": "python",
   "pygments_lexer": "ipython3",
   "version": "3.11.3"
  }
 },
 "nbformat": 4,
 "nbformat_minor": 5
}
